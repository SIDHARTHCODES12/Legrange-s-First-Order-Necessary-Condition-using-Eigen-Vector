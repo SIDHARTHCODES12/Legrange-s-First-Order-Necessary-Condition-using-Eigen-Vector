{
  "nbformat": 4,
  "nbformat_minor": 0,
  "metadata": {
    "colab": {
      "provenance": []
    },
    "kernelspec": {
      "name": "python3",
      "display_name": "Python 3"
    },
    "language_info": {
      "name": "python"
    }
  },
  "cells": [
    {
      "cell_type": "code",
      "execution_count": null,
      "metadata": {
        "id": "1LDNcMYutD8q"
      },
      "outputs": [],
      "source": [
        "#RegNo 2367413    Name:Nishant    Prog:: Legrange’s FONC using eigen\n",
        "import numpy as np\n",
        "p=[[2,0],\n",
        "   [0,1]]\n",
        "q=[[4,0],\n",
        "   [0,1]]\n",
        "p=np.array(p)\n",
        "q=np.array(q)\n",
        "pinverse=np.linalg.inv(p)\n",
        "print(\"P_inverse\\n\",pinverse)\n",
        "pq=np.dot(pinverse,q)\n",
        "print(\"P_inverse*q= \\n\",pq)\n",
        "eigenvalues, eigenvectors = np.linalg.eig(pq)\n",
        "print(\"Eigenvalues:\\n\",eigenvalues)\n",
        "print(\"\\nEigenvectors:\\n\",eigenvectors)\n",
        "def func(x):\n",
        "    xqx=np.dot(np.dot(x,q),np.transpose(x))\n",
        "    xpx=np.dot(np.dot(x,p),np.transpose(x))\n",
        "    return xqx/xpx\n",
        "f1=func(eigenvectors[0])\n",
        "f2=func(eigenvectors[1])\n",
        "print(\"funtion at 1st eigen vector\",f1)\n",
        "print(\"funtion at 2nd eigen vector\",f2)\n",
        "if f1>f2:\n",
        "    print(f\"function maximum at x0 = {eigenvectors[0]} and minimum at x1 = {eigenvectors[1]}\")\n",
        "else:\n",
        "    print(f\"function maximum at x1 = {eigenvectors[1]} and minimum at x0 = {eigenvectors[0]}\")"
      ]
    }
  ]
}